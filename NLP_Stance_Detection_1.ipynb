{
  "nbformat": 4,
  "nbformat_minor": 0,
  "metadata": {
    "kernelspec": {
      "display_name": "Python 3",
      "language": "python",
      "name": "python3"
    },
    "language_info": {
      "codemirror_mode": {
        "name": "ipython",
        "version": 3
      },
      "file_extension": ".py",
      "mimetype": "text/x-python",
      "name": "python",
      "nbconvert_exporter": "python",
      "pygments_lexer": "ipython3",
      "version": "3.6.7"
    },
    "colab": {
      "name": "NLP_Stance_Detection_1.ipynb",
      "provenance": [],
      "toc_visible": true,
      "include_colab_link": true
    },
    "accelerator": "GPU"
  },
  "cells": [
    {
      "cell_type": "markdown",
      "metadata": {
        "id": "view-in-github",
        "colab_type": "text"
      },
      "source": [
        "<a href=\"https://colab.research.google.com/github/ayush554/NLP_Stance_Detection/blob/main/NLP_Stance_Detection_1.ipynb\" target=\"_parent\"><img src=\"https://colab.research.google.com/assets/colab-badge.svg\" alt=\"Open In Colab\"/></a>"
      ]
    },
    {
      "cell_type": "markdown",
      "metadata": {
        "id": "MTX_cmWze2fr"
      },
      "source": [
        "# Stance Classification of Tweets using Transfer Learning\n",
        "This notebook shows how *transfer learning*, an extension of deep learning, can be used for predicting Tweet stance toward a particular topic."
      ]
    },
    {
      "cell_type": "markdown",
      "metadata": {
        "id": "mQgpfRghe2fx"
      },
      "source": [
        "# 1. Motivation\n",
        "\n",
        "The traditional approach to applying deep learning methods in NLP have involved feeding a model large amounts of labeled training data, and fitting the model's parameters to this data. In practice, natural language data is highly variable and can come in a variety of forms (tweets, blog posts, reviews etc.), and hence, a model trained for a particular language task does not generalize well to new data from another distribution. In addition, many natural language applications do not come with an abundance of labeled examples, and human annotation can get very expensive as the datasets get larger.\n",
        "\n",
        "This offers good motivation to explore the notion of [transfer learning](http://ruder.io/transfer-learning/index.html#whatistransferlearning) - a machine-learning technique that has the ability to transfer knowledge to novel scenarios not encountered during training. While transfer learning has been ubiquitous throughout computer vision applications since the advent of huge datasets such as ImageNet, it is only since 2017-18 that significant progress has been made for transfer learning in NLP applications. There have been a string of interesting papers in 2018 that discuss the power of language models in natural language understanding and how they can be used to provide pre-trained representations of a language's syntax, which can be far more useful when training a neural network for previously unseen tasks.\n",
        "\n",
        "Twitter data is a very interesting use case for transfer learning, mainly because the typical language syntax seen in Tweets is quite different from that which is used to train language models. For these reasons, the **2016 SemEval Stance Detection task** is chosen for studying the effectiveness of our transfer learning approach. The dataset, experiments and the evaluation criteria used are explained in below sections. \n",
        "\n",
        "The aim of this notebook is to highlight the development of a model that can help answer the following questions:\n",
        "- How does our approach generalize to Twitter-specific language syntax?\n",
        "- Are we able to achieve reasonable results (comparable to the winning team of SemEval 2016 Task 6) with *limited amounts of training data* and *limited computing resources*?\n",
        "- How much fine-tuning effort is required to achieve reasonable results?"
      ]
    },
    {
      "cell_type": "markdown",
      "metadata": {
        "id": "w8DYKkm4e2fx"
      },
      "source": [
        "# 2. Approach\n",
        "This section describes the 3-Layer LSTM architecture used for transfer learning, **ULMFit**. This is the architecture described in the well known paper by [Howard and Ruder, 2018](https://arxiv.org/pdf/1801.06146.pdf), that has been proven to generalize\n",
        "well to unseen distributions. The goal is to see how *ULMFit* can perform in this particular Tweet stance classification task.\n",
        "\n",
        "\n",
        "## 2.1 ULMFit Model Architecture\n",
        "![title](assets/ulmfit_arch.png)\n",
        "\n",
        "Source: [Howard and Ruder, 2018](https://arxiv.org/pdf/1801.06146.pdf)\n",
        "\n",
        "To classify out-of-domain data (such as our Twitter data), the following techniques are applied from the ULMFit paper:\n",
        "\n",
        "### Discriminative Fine-tuning\n",
        "From the *ULMFit* paper, each layer of the model captures *different types of information*. Hence, it makes sense to fine-tune each layer differently, and this is done in *ULMFit* after extensive empirical testing and implementation updates. Rather than change each layer manually, we can use the implemented ratios, but adapt the multiplier that influences the learning rate for each layer. \n",
        "\n",
        "*ULMFit* also uses discriminative fine-tuning with regard to the SGD update as follows:\n",
        "\n",
        "$\\theta_{t}^{l} = \\theta_{t-1}^{l} - \\eta^{l} \\cdot \\nabla_{\\theta^l} J{\\theta} $\n",
        "\n",
        "### 1-cycle learning rate policy\n",
        "In the fine-tuning stage, a *1-cycle learning rate* policy is applied, which comes from this [report by Leslie Smith](https://arxiv.org/abs/1803.09820). It is a modification of the cyclical learning rate policy, which has been around for a long time, but the 1-cycle policy allows a large initial learning rate ($LR_{max}=10^{-3}$, for example), but decreases it by several orders of magnitude just at the last epoch. This seems to provide greater final accuracy. In the ULMFit implementation,  this 1-cycle policy has been tweaked and is referred to as *slanted triangular learning rate*.\n",
        "\n",
        "### Gradual unfreezing\n",
        "Rather than training all the layers at once during classification, the layers are \"frozen\" and the last layer is fine-tuned first, followed by the next layer before it, and so on. This avoids the phenomenon known as *catastrophic forgetting* (by fine-tuning all layers too aggressively). \n",
        "\n",
        "### Concatenated pooling\n",
        "Because an input text can consist of hundreds or thousands of words, information might get lost if we only consider the last hidden state.\n",
        "\n",
        "Hence, the hidden state at the last time step, $h_T$ is concatenated with *both* the max-pooled and mean-pooled representation of the hidden states over as many time steps as can fit in GPU memory.\n",
        "\n",
        "$h_C = [h_T, maxpool(H), meanpool(H)]$\n",
        "\n",
        "Where $H$ is the vector of all hidden states.\n",
        "\n",
        "### 3-stage fine-tuning methodology\n",
        "The classification task is done in a 3-stage process:\n",
        "1. General-domain LM pretraining: ULMFit has a pretrained model generated using an AWD-LSTM (as per [Merity et al., 2017]((https://arxiv.org/pdf/1708.02182.pdf))) to develop a language model called ```Wikitext-103``` and was trained of 28,595 preprocessed Wikipedia articles, totalling to 103 million words. \n",
        "2. Target task *LM* fine-tuning: Since the data for the target will likely come from a different distribution, ULMFit allows us to use the pre-trained language model anf fine-tune it (using the above techniques) to adapt to the idiosyncrasies of the target data.\n",
        "3. Target task *classifier* fine-tuning: Once we save the updated weights from the language model fine-tuning step, we can fine-tune the classifier with gradual unfreezing and the other techniques described above to perform  task-specific class prediction. \n",
        "\n",
        "Note that for this SemEval Tweet stance classification task, we only perform steps 2 and 3, and utilize the pretrained language model from the ```fastai``` database. "
      ]
    },
    {
      "cell_type": "markdown",
      "metadata": {
        "id": "i9cYjW4Ee2f0"
      },
      "source": [
        "# 3. Data\n",
        "\n",
        "The training and test data consist of Tweets pertaining to five distinct topics, shown in [SemEval 2016: Task 6](http://alt.qcri.org/semeval2016/task6/). We only look at Task A: \"Supervised Framework\" in this notebook. The train and test data (including the gold) are in the the ```data/``` directory provided along with this repository.\n",
        "\n",
        "The five topics for which Tweets are provided as part of the training data are given below. \n",
        "\n",
        "| Topic        \n",
        "|:------------ | \n",
        "| Atheism     |\n",
        "| Climate Change is a Real Concern  | \n",
        "| Feminist Movement | \n",
        "| Hillary Clinton  |\n",
        "| Legalization of Abortion  | \n",
        "\n",
        "A more detailed breakdown of the tweets for this shared task is provided in [this link](http://www.saifmohammad.com/WebPages/StanceDataset.htm). \n",
        "\n",
        "## Size of dataset\n",
        "The total number of Tweets (in the training set) available for this task is roughly 2700, which amounts to roughly 500-600 Tweets per topic. Thus, this can be considered a small dataset. \n",
        "\n",
        "![title](assets/stance_balance.png)\n",
        "\n",
        "Upon inspecting the training data, it is clear that there is quite a large variance in terms of the number of Tweets in favor vs. those against a topic. There is quite a large variance *within* classes as well as *between* classes in the overall data. \n",
        "\n",
        "## 3.1 Pretrained language models\n",
        "\n",
        "*ULMFit* uses its own pretrained language model ```wikitext-103``` that can be conveniently downloaded  from the ```fastai``` database hosted on AWS. \n"
      ]
    },
    {
      "cell_type": "markdown",
      "metadata": {
        "id": "PJnlvUQye2f1"
      },
      "source": [
        "## 3.2 Preprocess SemEval training data\n",
        "This section discusses the steps used to prepare the data for transfer learning utilizing the ```fastai``` framework. In particular, the ```fastai.text``` library is designed to work very well with tabular data, hence, Pandas DataFrames are used to organize and filter the data."
      ]
    },
    {
      "cell_type": "code",
      "metadata": {
        "id": "iRJ1baX3e2f2"
      },
      "source": [
        "#@title\n",
        "from fastai import *\n",
        "from fastai.text import *\n",
        "from pathlib import Path\n",
        "import pandas as pd\n",
        "import numpy as np\n",
        "import re"
      ],
      "execution_count": null,
      "outputs": []
    },
    {
      "cell_type": "markdown",
      "metadata": {
        "id": "G0s-Mm7ge2f2"
      },
      "source": [
        "### Define the path to train and test data for SemEval 2016 Task 6\n",
        "The full data and evaluation files for this task is available on the [source page](http://alt.qcri.org/semeval2016/task6/index.php?id=data-and-tools). However, these have been included along with this repository for future reference. "
      ]
    },
    {
      "cell_type": "code",
      "metadata": {
        "id": "3UpEdXVme2f2"
      },
      "source": [
        "#@title\n",
        "path = Path('/content/sample_data/data')\n",
        "trainfile = 'inputfile.txt'\n",
        "testfile = 'test.txt'"
      ],
      "execution_count": null,
      "outputs": []
    },
    {
      "cell_type": "markdown",
      "metadata": {
        "id": "w2l9olT3e2f3"
      },
      "source": [
        "Some of the characters in the training set are not *utf-8* encoded, hence we make sure that we only treat the characters that appear in the English language for this task."
      ]
    },
    {
      "cell_type": "code",
      "metadata": {
        "id": "m9OgfaEqe2f3"
      },
      "source": [
        "#@title\n",
        "def clean_ascii(text):\n",
        "    # function to remove non-ASCII chars from data\n",
        "    return ''.join(i for i in text if ord(i) < 128)"
      ],
      "execution_count": null,
      "outputs": []
    },
    {
      "cell_type": "code",
      "metadata": {
        "id": "zjN3nxEOe2f3"
      },
      "source": [
        "#@title\n",
        "train_orig = pd.read_csv(path/trainfile, delimiter='\\t', header=0, encoding = \"latin-1\")"
      ],
      "execution_count": null,
      "outputs": []
    },
    {
      "cell_type": "code",
      "metadata": {
        "id": "pECiDwsAe2f3",
        "colab": {
          "base_uri": "https://localhost:8080/"
        },
        "outputId": "13f5f8b9-8a54-4590-f69f-b864fe6c67ee"
      },
      "source": [
        "#@title\n",
        "# Check that the latest 1.0.0 build of PyTorch has been installed \n",
        "# alongside fastai\n",
        "import torch\n",
        "print(\"Cuda available\" if torch.cuda.is_available() is True else \"CPU\")\n",
        "print(\"PyTorch version: \", torch.__version__)"
      ],
      "execution_count": null,
      "outputs": [
        {
          "output_type": "stream",
          "text": [
            "Cuda available\n",
            "PyTorch version:  1.8.1+cu101\n"
          ],
          "name": "stdout"
        }
      ]
    },
    {
      "cell_type": "code",
      "metadata": {
        "id": "AI2-V785e2f4",
        "colab": {
          "base_uri": "https://localhost:8080/",
          "height": 296
        },
        "outputId": "ff4ec49e-f12b-43ce-d23e-8adcd85e3fad"
      },
      "source": [
        "#@title\n",
        "# Plot value counts for rach stance in the dataset\n",
        "train_orig['Stance'].value_counts().plot.bar(rot=30);"
      ],
      "execution_count": null,
      "outputs": [
        {
          "output_type": "display_data",
          "data": {
            "image/png": "[encoded data removed]",
            "text/plain": [
              "<Figure size 432x288 with 1 Axes>"
            ]
          },
          "metadata": {
            "tags": [],
            "needs_background": "light"
          }
        }
      ]
    },
    {
      "cell_type": "code",
      "metadata": {
        "id": "csLmywQHe2f4",
        "colab": {
          "base_uri": "https://localhost:8080/"
        },
        "outputId": "93d2fc6e-b424-4b05-95fd-9d35fd52fdc2"
      },
      "source": [
        "#@title\n",
        "print(\"SemEval 2016 Task 6 (subtask A) Tweet topics are:\\n\")\n",
        "print(\"------------------------------------------\")\n",
        "for item in train_orig['Target'].unique():\n",
        "    print(item)"
      ],
      "execution_count": null,
      "outputs": [
        {
          "output_type": "stream",
          "text": [
            "SemEval 2016 Task 6 (subtask A) Tweet topics are:\n",
            "\n",
            "------------------------------------------\n",
            "More people will die as a result of a negative side effect to the COVID-19 vaccine than would actually die from the coronavirus.\n",
            "The COVID-19 vaccine causes infertility or miscarriages in women.\n",
            "The COVID-19 vaccine causes Bell's palsy.\n",
            "Natural COVID-19 immunity is better than immunity derived from a COVID-19 vaccine.\n",
            "RNA alters a person's DNA when taking the COVID-19 vaccine.\n",
            "There are severe side effects of the COVID-19 vaccines, worse than having the virus.\n",
            "The COVID-19 vaccine was developed to control the general population either through microchip tracking or nanotransducers in our brains.\n",
            "The COVID-19 vaccine contains tissue from aborted fetuses.\n"
          ],
          "name": "stdout"
        }
      ]
    },
    {
      "cell_type": "markdown",
      "metadata": {
        "id": "Y5tx95Cze2f5"
      },
      "source": [
        "### Apply the cleaning function to the 'Tweet' column of the training data"
      ]
    },
    {
      "cell_type": "code",
      "metadata": {
        "id": "pCaiegjCe2f5"
      },
      "source": [
        "#@title\n",
        "train_orig['Tweet'] = train_orig['Tweet'].apply(clean_ascii)"
      ],
      "execution_count": null,
      "outputs": []
    },
    {
      "cell_type": "code",
      "metadata": {
        "id": "VgNrt9MIe2f5",
        "colab": {
          "base_uri": "https://localhost:8080/",
          "height": 204
        },
        "outputId": "136e7df5-d789-4b05-c659-f29248a81a6b"
      },
      "source": [
        "#@title\n",
        "train_orig.head()"
      ],
      "execution_count": null,
      "outputs": [
        {
          "output_type": "execute_result",
          "data": {
            "text/html": [
              "<div>\n",
              "<style scoped>\n",
              "    .dataframe tbody tr th:only-of-type {\n",
              "        vertical-align: middle;\n",
              "    }\n",
              "\n",
              "    .dataframe tbody tr th {\n",
              "        vertical-align: top;\n",
              "    }\n",
              "\n",
              "    .dataframe thead th {\n",
              "        text-align: right;\n",
              "    }\n",
              "</style>\n",
              "<table border=\"1\" class=\"dataframe\">\n",
              "  <thead>\n",
              "    <tr style=\"text-align: right;\">\n",
              "      <th></th>\n",
              "      <th>ID</th>\n",
              "      <th>Target</th>\n",
              "      <th>Tweet</th>\n",
              "      <th>Stance</th>\n",
              "    </tr>\n",
              "  </thead>\n",
              "  <tbody>\n",
              "    <tr>\n",
              "      <th>0</th>\n",
              "      <td>10001</td>\n",
              "      <td>More people will die as a result of a negative...</td>\n",
              "      <td>@meetnpatatas @RealMattCouch @Progressivemagi ...</td>\n",
              "      <td>agree</td>\n",
              "    </tr>\n",
              "    <tr>\n",
              "      <th>1</th>\n",
              "      <td>10002</td>\n",
              "      <td>The COVID-19 vaccine causes infertility or mis...</td>\n",
              "      <td>@armyveteran13 I said when the virus was first...</td>\n",
              "      <td>agree</td>\n",
              "    </tr>\n",
              "    <tr>\n",
              "      <th>2</th>\n",
              "      <td>10003</td>\n",
              "      <td>The COVID-19 vaccine causes infertility or mis...</td>\n",
              "      <td>Bombshell Interview With Del Bigtree: COVID Va...</td>\n",
              "      <td>agree</td>\n",
              "    </tr>\n",
              "    <tr>\n",
              "      <th>3</th>\n",
              "      <td>10004</td>\n",
              "      <td>The COVID-19 vaccine causes Bell's palsy.</td>\n",
              "      <td>YOLO- berichtgeving:   \"COVID Vaccine Caused 4...</td>\n",
              "      <td>agree</td>\n",
              "    </tr>\n",
              "    <tr>\n",
              "      <th>4</th>\n",
              "      <td>10005</td>\n",
              "      <td>Natural COVID-19 immunity is better than immun...</td>\n",
              "      <td>@FatEmperor Natural immunity, I build up my bo...</td>\n",
              "      <td>no_stance</td>\n",
              "    </tr>\n",
              "  </tbody>\n",
              "</table>\n",
              "</div>"
            ],
            "text/plain": [
              "      ID  ...     Stance\n",
              "0  10001  ...      agree\n",
              "1  10002  ...      agree\n",
              "2  10003  ...      agree\n",
              "3  10004  ...      agree\n",
              "4  10005  ...  no_stance\n",
              "\n",
              "[5 rows x 4 columns]"
            ]
          },
          "metadata": {
            "tags": []
          },
          "execution_count": 98
        }
      ]
    },
    {
      "cell_type": "markdown",
      "metadata": {
        "id": "uTLvOiIle2f5"
      },
      "source": [
        "### Store the relevant information from training data \n",
        "ULMFit requires just the stance and the text data (i.e. tweets) for the language-model finetuning and classification steps, hence these are stored in a DataFrame."
      ]
    },
    {
      "cell_type": "code",
      "metadata": {
        "id": "riIxCYAme2f6",
        "colab": {
          "base_uri": "https://localhost:8080/",
          "height": 204
        },
        "outputId": "4d3e29f0-36e6-4842-9cc2-a6d6310cdc8e"
      },
      "source": [
        "#@title\n",
        "train = pd.concat([train_orig['Stance'], train_orig['Tweet']], axis=1)\n",
        "train.tail()"
      ],
      "execution_count": null,
      "outputs": [
        {
          "output_type": "execute_result",
          "data": {
            "text/html": [
              "<div>\n",
              "<style scoped>\n",
              "    .dataframe tbody tr th:only-of-type {\n",
              "        vertical-align: middle;\n",
              "    }\n",
              "\n",
              "    .dataframe tbody tr th {\n",
              "        vertical-align: top;\n",
              "    }\n",
              "\n",
              "    .dataframe thead th {\n",
              "        text-align: right;\n",
              "    }\n",
              "</style>\n",
              "<table border=\"1\" class=\"dataframe\">\n",
              "  <thead>\n",
              "    <tr style=\"text-align: right;\">\n",
              "      <th></th>\n",
              "      <th>Stance</th>\n",
              "      <th>Tweet</th>\n",
              "    </tr>\n",
              "  </thead>\n",
              "  <tbody>\n",
              "    <tr>\n",
              "      <th>1995</th>\n",
              "      <td>not_relevant</td>\n",
              "      <td>If the coronavirus vaccine doesn't cause autis...</td>\n",
              "    </tr>\n",
              "    <tr>\n",
              "      <th>1996</th>\n",
              "      <td>not_relevant</td>\n",
              "      <td>If the coronavirus vaccine doesn't cause autis...</td>\n",
              "    </tr>\n",
              "    <tr>\n",
              "      <th>1997</th>\n",
              "      <td>agree</td>\n",
              "      <td>I'm more concerned with the side effects of th...</td>\n",
              "    </tr>\n",
              "    <tr>\n",
              "      <th>1998</th>\n",
              "      <td>agree</td>\n",
              "      <td>I'm more concerned with the side effects of th...</td>\n",
              "    </tr>\n",
              "    <tr>\n",
              "      <th>1999</th>\n",
              "      <td>agree</td>\n",
              "      <td>Covid vaccine giving ppl of color Bell's palsy...</td>\n",
              "    </tr>\n",
              "  </tbody>\n",
              "</table>\n",
              "</div>"
            ],
            "text/plain": [
              "            Stance                                              Tweet\n",
              "1995  not_relevant  If the coronavirus vaccine doesn't cause autis...\n",
              "1996  not_relevant  If the coronavirus vaccine doesn't cause autis...\n",
              "1997         agree  I'm more concerned with the side effects of th...\n",
              "1998         agree  I'm more concerned with the side effects of th...\n",
              "1999         agree  Covid vaccine giving ppl of color Bell's palsy..."
            ]
          },
          "metadata": {
            "tags": []
          },
          "execution_count": 99
        }
      ]
    },
    {
      "cell_type": "code",
      "metadata": {
        "id": "nA4peE7se2f6"
      },
      "source": [
        "#@title\n",
        "# Write train to csv\n",
        "train.to_csv(path/'train.csv', index=False, header=False)"
      ],
      "execution_count": null,
      "outputs": []
    },
    {
      "cell_type": "markdown",
      "metadata": {
        "id": "wKXVl4dte2f6"
      },
      "source": [
        "# 4. Experimental Setup\n",
        "\n",
        "Stance detection uses a *semi-supervised approach* where we reuse weights from a pretrained language model (in this case ```wikitext-103```) and perform multi-class classification on the training data over the three classes (*FAVOR*, *AGAINST* and *NONE*).\n",
        "\n",
        "### Evaluation\n",
        "The metric used to score the stance classification is **F-score**. The event organizers provide an [evaluation script](http://alt.qcri.org/semeval2016/task6/index.php?id=data-and-tools) that calculates the macro-average of F-score (FAVOR) and F-score (AGAINST) for task A. This compares our model's predicted stance for each Tweet against the gold reference.\n",
        "\n",
        "The *perl* script provided by the organizers is used to generate an F- score. The evaluation script is in ```data/eval/``` and has the following usage:\n",
        "    \n",
        "    cd data/eval\n",
        "    perl eval.pl -u\n",
        "\n",
        "    ---------------------------\n",
        "    Usage:\n",
        "    perl eval.pl goldFile guessFile\n",
        "\n",
        "    goldFile:  file containing gold standards;\n",
        "    guessFile: file containing your prediction.\n",
        "\n",
        "### Reference result\n",
        "To have a benchmark to compare our results against, it makes sense to look at the winning paper for this shared task, from team *MITRE*, who [published their methodology and approach](https://arxiv.org/pdf/1606.03784.pdf). From this paper, it can be seen that *MITRE* used an LSTM-based deep learning approach and performed per-topic classification of Tweets to achieve an average macro F-score of **0.67**. \n",
        "\n",
        "### Stance Prediction\n",
        "The predicted output stances on the test dataset is written out according to the format expected by the evaluation *perl* script, and the F-scores are published as per this evaluation."
      ]
    },
    {
      "cell_type": "markdown",
      "metadata": {
        "id": "Sn7DVncYe2f6"
      },
      "source": [
        "# 5. Transfer Learning Stages\n",
        "\n",
        "This notebook utilizes the refactored and updated version (```v1```) of *ULMFit* as implemented in the [fastai](https://github.com/fastai/fastai/tree/master/fastai)  GitHub repository. This requires an install of **Pytorch 1.0.0** ([released on December 7, 2018](https://developers.facebook.com/blog/post/2018/05/02/announcing-pytorch-1.0-for-research-production/)) to run since its development intended to move alongside PyTorch's own development cycle in the future. It is recommended to run this entire notebook in a virtual environment to avoid clashes with pre-existing installs of PyTorch.\n",
        "\n",
        "The refactored code for *ULMFit* is much more high-level and abstracted than the original version that was used in the paper, so it doesn't make sense to rewrite the data manipulation code for text handling and tokenization from the ground up. We can take advantage of the powerful transfer learning functionality that is baked into ULMFit (obtained after months of fine-tuning and refactoring the source code by Fast.ai) instead! "
      ]
    },
    {
      "cell_type": "markdown",
      "metadata": {
        "id": "0stkYrime2f6"
      },
      "source": [
        "## 5.1 Language model finetuning: (SemEval Tweets only)\n",
        "The pre-trained language model used is from [this work by Merity et al.](https://arxiv.org/pdf/1708.02182.pdf). Although we are working with Twitter whose content's structure that can be quite dissimilar to Wikipedia's sentence formulation, the hope is that the language understanding developed by the model, in combination with the fine-tuning techniques described in [Howard and Ruder's paper](https://arxiv.org/pdf/1801.06146.pdf), will allow us to at least transfer some knowledge for the purposes of classification of Tweet stance."
      ]
    },
    {
      "cell_type": "markdown",
      "metadata": {
        "id": "O_iH76DJe2f6"
      },
      "source": [
        "### Preprocess data for language model fine-tuning\n",
        "The ```TextLMDataBunch```[ [source]](https://docs.fast.ai/text.data.html#TextLMDataBunch) class returns a \"Databunch\" type of object that is a custom object defined in fastai.text's API. Note that according to this class definition, a significant amount of data pre-processing is going on under the hood. \n",
        "\n",
        "- Initialize the language model with the pre-trained vocabulary's weights\n",
        "- Create a custom data loader that \"batchifies\" the target task's vocabulary, i.e. split it up into batches for processing on the GPU\n",
        "- Introduce randomness into the batches, but without breaking up the sentence sequences using techniques [borrowed from language modeling](https://arxiv.org/pdf/1708.02182.pdf).\n",
        "- Tokenize the target task's vocabulary and increase the efficiency of tokenization (for large tasks) using multi-threading\n",
        " "
      ]
    },
    {
      "cell_type": "code",
      "metadata": {
        "id": "i8ILgV3ue2f7",
        "colab": {
          "base_uri": "https://localhost:8080/",
          "height": 71
        },
        "outputId": "fefbce08-b0b5-43ce-922c-babd0a02cf46"
      },
      "source": [
        "#@title\n",
        "# Language model data\n",
        "data_lm = TextLMDataBunch.from_csv(path, 'train.csv', min_freq=1)"
      ],
      "execution_count": null,
      "outputs": [
        {
          "output_type": "display_data",
          "data": {
            "text/html": [
              ""
            ],
            "text/plain": [
              "<IPython.core.display.HTML object>"
            ]
          },
          "metadata": {
            "tags": []
          }
        },
        {
          "output_type": "stream",
          "text": [
            "/usr/local/lib/python3.7/dist-packages/fastai/core.py:302: VisibleDeprecationWarning: Creating an ndarray from ragged nested sequences (which is a list-or-tuple of lists-or-tuples-or ndarrays with different lengths or shapes) is deprecated. If you meant to do this, you must specify 'dtype=object' when creating the ndarray\n",
            "  return np.array(a, dtype=dtype, **kwargs)\n"
          ],
          "name": "stderr"
        },
        {
          "output_type": "display_data",
          "data": {
            "text/html": [
              ""
            ],
            "text/plain": [
              "<IPython.core.display.HTML object>"
            ]
          },
          "metadata": {
            "tags": []
          }
        }
      ]
    },
    {
      "cell_type": "markdown",
      "metadata": {
        "id": "WJFVwMloe2f7"
      },
      "source": [
        "Note that in this case, we specify a minimum word frequency of 1 (i.e. words that appear just once in the data are given the tag ```<unk>``` during tokenization."
      ]
    },
    {
      "cell_type": "code",
      "metadata": {
        "id": "ZwdPGOlUe2f7"
      },
      "source": [
        "#@title\n",
        "# Save the language and classifier model data for re-use\n",
        "data_lm.save()"
      ],
      "execution_count": null,
      "outputs": []
    },
    {
      "cell_type": "code",
      "metadata": {
        "id": "KskLIHDCe2f7",
        "colab": {
          "base_uri": "https://localhost:8080/",
          "height": 289
        },
        "outputId": "706d9b9e-564f-4ff0-a4f9-898f15e8a5d6"
      },
      "source": [
        "#@title\n",
        "data_lm.show_batch()"
      ],
      "execution_count": null,
      "outputs": [
        {
          "output_type": "display_data",
          "data": {
            "text/html": [
              "<table border=\"1\" class=\"dataframe\">\n",
              "  <thead>\n",
              "    <tr style=\"text-align: right;\">\n",
              "      <th>idx</th>\n",
              "      <th>text</th>\n",
              "    </tr>\n",
              "  </thead>\n",
              "  <tbody>\n",
              "    <tr>\n",
              "      <td>0</td>\n",
              "      <td>covid vaccine xxbos xxmaj just a guess based on a long life of experience . xxmaj the xxup covid vaccine will end up more deadly and unhealthy for those that survive than the virus alone . xxbos xxmaj bell 's palsy is a known vax reaction . xxup bp is n't the only paralysis caused by vax so is xxmaj guillain - xxmaj barr syndrome . i know i had</td>\n",
              "    </tr>\n",
              "    <tr>\n",
              "      <td>1</td>\n",
              "      <td>xxmaj united xxmaj states have presented with serious side effects from the xxup covid vaccine , xxup cdc admits xxup url \" xxbos xxmaj the covid-19 vaccine is harmful , or at least might be harmful . xxbos xxmaj the xxmaj covid-19 vaccine is fake ! xxbos @albertothomas xxmaj which solution do you want ? xxmaj what this thread is stating , [ xxup covid is synthetic and alters your</td>\n",
              "    </tr>\n",
              "    <tr>\n",
              "      <td>2</td>\n",
              "      <td>from the xxmaj covid-19 vaccine xxrep 4 . they wo n't tell that part xxbos i rather take my chances with the xxmaj covid vaccine than the actual virus . xxbos @tofromthe360 xxmaj the unknown risks of the mrna vaccine can be greater than the known risks of xxup covid . xxbos xxmaj you know how anti vaxxers push the narrative that vaccines are made from aborted embryos because they</td>\n",
              "    </tr>\n",
              "    <tr>\n",
              "      <td>3</td>\n",
              "      <td>. xxmaj wake up people # saynotodepopulation # justiceforamaechi # playlikeplay xxbos xxmaj the vaccine is going to be worse than the virus . xxmaj that 's what xxmaj covid-21 will be . xxbos xxmaj we are all going to get a xxup dna upgrade tomorrow , except for those who got the xxup covid vaccine . xxbos xxmaj can mrna vaccines alter your xxup dna ? xxmaj more of</td>\n",
              "    </tr>\n",
              "    <tr>\n",
              "      <td>4</td>\n",
              "      <td>of adverse side effects for the covid vaccine ? xxmaj if it 's higher than the death rate for the actual virus , i 'll take my chances . xxbos xxmaj side effects of the xxmaj covid -19 vaccine xxup url xxbos if you unlock your phone by scanning your fingerprint or face , you do n't have to worry about the covid vaccine planting a microchip in you .</td>\n",
              "    </tr>\n",
              "  </tbody>\n",
              "</table>"
            ],
            "text/plain": [
              "<IPython.core.display.HTML object>"
            ]
          },
          "metadata": {
            "tags": []
          }
        }
      ]
    },
    {
      "cell_type": "markdown",
      "metadata": {
        "id": "rXqlqcIDe2f7"
      },
      "source": [
        "We only need to run the above tokenization step once, and save the data. All the data goes to a local folder named ```tmp/```. For a large added vocabulary, the above tokenization step can take a while, hence we save them and restart the notebook from the next cell (if we close our session).\n",
        "\n",
        "The tokenization technique used by ```fastai.text``` is quite advanced, and uses quite a few tricks to capture semantic meaning from the text. Unlike typical NLTK-type tokenization, here we are not converting the Tweets to lowercase and removing information from the base text - that would result in a tremendous loss of information that our model could use to gather an understanding of our new task's vocabulary.\n",
        "\n",
        "Instead, a number of added tokens are applied so that minimal information is lost. A full list of all the tokenization rules used are [here](https://docs.fast.ai/text.transform.html#Rules). \n",
        "\n",
        "As an example, the ```xxmaj``` token [[source]](https://github.com/fastai/fastai/blob/1c5c007e10a187f4a048a3ee8137016534259768/fastai/text/transform.py#L71) indicates that there is capitalization of the word, either in part or in full. \"The\" will be tokenized as \"xxmaj the\". For words that are full capitalized, such as \"I AM SHOUTING\"; it is tokenized as \"xxup i xxup am xxup shouting\". The tokenizer uses spaCy's underlying tokens, but adds tags in a very smart way that balances capturing semantic meaning while reducing the number of overall tokens, so it is both powerful and efficient. \n",
        "\n",
        "The tokenization process described above is highly efficient, in part thanks to the power of *SpaCy* and also due to the multi-threading wrappers implemented by Fast.ai on top of Spacy's tokenizer. As a result, a really large language model's vocabulary (of millions of words) can also be effectively tokenized in a reasonable time. "
      ]
    },
    {
      "cell_type": "markdown",
      "metadata": {
        "id": "mddERICGe2f8"
      },
      "source": [
        "### Define learner object for language model finetuning\n",
        "We define a learner object that uses the tokenized language model data, that is organized into batches for the GPU, and feed it a pre-trained language model. \n",
        "\n",
        "We use the ```wt_103_v1``` model that was refined after re-training using the more efficient ```fastai v1``` library. The data (```lstm_wt103.pth```) is downloaded through an AWS-hosted link (accessed through the ```fastai.datasets``` interface), and stored locally. All the data in the language model file is numericalized and stored in a way that the learner can efficiently pick up tokens in float form. In addition to the language model, there is also an additional pickle object ```itos_wt103.pkl``` that is similar to the ```torchtext``` definition of \"integer-to-string\" - this contains the list of unique tokens in word form, so that we can map the tokens back to strings if necessary."
      ]
    },
    {
      "cell_type": "code",
      "metadata": {
        "id": "ndeH8jrje2f8"
      },
      "source": [
        "#@title\n",
        "learn = language_model_learner(data_lm, AWD_LSTM, drop_mult=0.1)"
      ],
      "execution_count": null,
      "outputs": []
    },
    {
      "cell_type": "markdown",
      "metadata": {
        "id": "-aHyinEDe2f8"
      },
      "source": [
        "### Print the structure of the language model RNN \n",
        "We can examine the architecture of the 3-layer LSTM used in ULMFit as shown below. For the language model fine-tuning, we define the embeddings based on the the target task vocabulary size. A single linear output layer is defined  that updates the weights once we pass the input through the network."
      ]
    },
    {
      "cell_type": "code",
      "metadata": {
        "id": "vY-BK8uwe2f8",
        "colab": {
          "base_uri": "https://localhost:8080/"
        },
        "outputId": "72e27566-942a-4e10-efcf-f53ea2a2a853"
      },
      "source": [
        "#@title\n",
        "list(learn.model.children())"
      ],
      "execution_count": null,
      "outputs": [
        {
          "output_type": "execute_result",
          "data": {
            "text/plain": [
              "[AWD_LSTM(\n",
              "   (encoder): Embedding(4720, 400, padding_idx=1)\n",
              "   (encoder_dp): EmbeddingDropout(\n",
              "     (emb): Embedding(4720, 400, padding_idx=1)\n",
              "   )\n",
              "   (rnns): ModuleList(\n",
              "     (0): WeightDropout(\n",
              "       (module): LSTM(400, 1152, batch_first=True)\n",
              "     )\n",
              "     (1): WeightDropout(\n",
              "       (module): LSTM(1152, 1152, batch_first=True)\n",
              "     )\n",
              "     (2): WeightDropout(\n",
              "       (module): LSTM(1152, 400, batch_first=True)\n",
              "     )\n",
              "   )\n",
              "   (input_dp): RNNDropout()\n",
              "   (hidden_dps): ModuleList(\n",
              "     (0): RNNDropout()\n",
              "     (1): RNNDropout()\n",
              "     (2): RNNDropout()\n",
              "   )\n",
              " ), LinearDecoder(\n",
              "   (decoder): Linear(in_features=400, out_features=4720, bias=True)\n",
              "   (output_dp): RNNDropout()\n",
              " )]"
            ]
          },
          "metadata": {
            "tags": []
          },
          "execution_count": 105
        }
      ]
    },
    {
      "cell_type": "markdown",
      "metadata": {
        "id": "WEevVh6Be2f8"
      },
      "source": [
        "### Find the optimum learning rate \n",
        "```fastai.train``` [source](https://github.com/fastai/fastai/blob/050080be574cb1260462bbd03e9600e43e7a54b1/fastai/train.py#L23) provides a convenient utility to search through a range of learning rates to find the optimum one for our dataset. \n",
        "\n",
        "The idea is that our optimization function needs to use a learning rate that is an order of magnitude below the point at which the loss starts to diverge. We can quickly find this as shown below. "
      ]
    },
    {
      "cell_type": "code",
      "metadata": {
        "id": "A5qlfpCbe2f8",
        "colab": {
          "base_uri": "https://localhost:8080/",
          "height": 591
        },
        "outputId": "34dcbf06-dd86-42bf-e9e5-07d41f178173"
      },
      "source": [
        "#@title\n",
        "learn.lr_find(start_lr=1e-8, end_lr=1e2)\n",
        "learn.recorder.plot()"
      ],
      "execution_count": null,
      "outputs": [
        {
          "output_type": "display_data",
          "data": {
            "text/html": [
              "\n",
              "    <div>\n",
              "        <style>\n",
              "            /* Turns off some styling */\n",
              "            progress {\n",
              "                /* gets rid of default border in Firefox and Opera. */\n",
              "                border: none;\n",
              "                /* Needs to be in here for Safari polyfill so background images work as expected. */\n",
              "                background-size: auto;\n",
              "            }\n",
              "            .progress-bar-interrupted, .progress-bar-interrupted::-webkit-progress-bar {\n",
              "                background: #F44336;\n",
              "            }\n",
              "        </style>\n",
              "      <progress value='7' class='' max='8' style='width:300px; height:20px; vertical-align: middle;'></progress>\n",
              "      87.50% [7/8 00:13<00:01]\n",
              "    </div>\n",
              "    \n",
              "<table border=\"1\" class=\"dataframe\">\n",
              "  <thead>\n",
              "    <tr style=\"text-align: left;\">\n",
              "      <th>epoch</th>\n",
              "      <th>train_loss</th>\n",
              "      <th>valid_loss</th>\n",
              "      <th>accuracy</th>\n",
              "      <th>time</th>\n",
              "    </tr>\n",
              "  </thead>\n",
              "  <tbody>\n",
              "    <tr>\n",
              "      <td>0</td>\n",
              "      <td>5.699735</td>\n",
              "      <td>#na#</td>\n",
              "      <td>00:01</td>\n",
              "    </tr>\n",
              "    <tr>\n",
              "      <td>1</td>\n",
              "      <td>5.700007</td>\n",
              "      <td>#na#</td>\n",
              "      <td>00:01</td>\n",
              "    </tr>\n",
              "    <tr>\n",
              "      <td>2</td>\n",
              "      <td>5.697703</td>\n",
              "      <td>#na#</td>\n",
              "      <td>00:01</td>\n",
              "    </tr>\n",
              "    <tr>\n",
              "      <td>3</td>\n",
              "      <td>5.674676</td>\n",
              "      <td>#na#</td>\n",
              "      <td>00:01</td>\n",
              "    </tr>\n",
              "    <tr>\n",
              "      <td>4</td>\n",
              "      <td>5.418957</td>\n",
              "      <td>#na#</td>\n",
              "      <td>00:01</td>\n",
              "    </tr>\n",
              "    <tr>\n",
              "      <td>5</td>\n",
              "      <td>4.930443</td>\n",
              "      <td>#na#</td>\n",
              "      <td>00:01</td>\n",
              "    </tr>\n",
              "    <tr>\n",
              "      <td>6</td>\n",
              "      <td>9.149046</td>\n",
              "      <td>#na#</td>\n",
              "      <td>00:01</td>\n",
              "    </tr>\n",
              "  </tbody>\n",
              "</table><p>\n",
              "\n",
              "    <div>\n",
              "        <style>\n",
              "            /* Turns off some styling */\n",
              "            progress {\n",
              "                /* gets rid of default border in Firefox and Opera. */\n",
              "                border: none;\n",
              "                /* Needs to be in here for Safari polyfill so background images work as expected. */\n",
              "                background-size: auto;\n",
              "            }\n",
              "            .progress-bar-interrupted, .progress-bar-interrupted::-webkit-progress-bar {\n",
              "                background: #F44336;\n",
              "            }\n",
              "        </style>\n",
              "      <progress value='4' class='' max='13' style='width:300px; height:20px; vertical-align: middle;'></progress>\n",
              "      30.77% [4/13 00:00<00:01 18.9173]\n",
              "    </div>\n",
              "    "
            ],
            "text/plain": [
              "<IPython.core.display.HTML object>"
            ]
          },
          "metadata": {
            "tags": []
          }
        },
        {
          "output_type": "stream",
          "text": [
            "LR Finder is complete, type {learner_name}.recorder.plot() to see the graph.\n"
          ],
          "name": "stdout"
        },
        {
          "output_type": "display_data",
          "data": {
            "image/png": "[encoded data removed]",
            "text/plain": [
              "<Figure size 432x288 with 1 Axes>"
            ]
          },
          "metadata": {
            "tags": [],
            "needs_background": "light"
          }
        }
      ]
    },
    {
      "cell_type": "markdown",
      "metadata": {
        "id": "uxO6B3bie2f9"
      },
      "source": [
        "### Run the ```language_model_learner``` class\n",
        "The pre-trained language model quickly downloads from the ```fastai```'s AWS link, so there is no need to download it separately. [```drop_mult```] is the multiplier applied to the dropout in the language learner. As per the ULMFit paper, we use a custom dropout for each language model layer, and the ```drop_mult```just scales a [numpy array of these dropouts](https://github.com/fastai/fastai/blob/1c5c007e10a187f4a048a3ee8137016534259768/fastai/text/learner.py#L15) which remain in the same relative ratio to one another. These numbers have been obtained through empirical tuning for a range of language tasks, and we took note of this during our extensive reading on this task."
      ]
    },
    {
      "cell_type": "code",
      "metadata": {
        "id": "VJwm3OIve2f9",
        "colab": {
          "base_uri": "https://localhost:8080/",
          "height": 80
        },
        "outputId": "40abe35a-09dc-4a73-d74c-ea3bae0c3a04"
      },
      "source": [
        "#@title\n",
        "learn = language_model_learner(data_lm, AWD_LSTM, drop_mult=0.1)\n",
        "learn.fit_one_cycle(cyc_len=1, max_lr=1e-3, moms=(0.8, 0.7))"
      ],
      "execution_count": null,
      "outputs": [
        {
          "output_type": "display_data",
          "data": {
            "text/html": [
              "<table border=\"1\" class=\"dataframe\">\n",
              "  <thead>\n",
              "    <tr style=\"text-align: left;\">\n",
              "      <th>epoch</th>\n",
              "      <th>train_loss</th>\n",
              "      <th>valid_loss</th>\n",
              "      <th>accuracy</th>\n",
              "      <th>time</th>\n",
              "    </tr>\n",
              "  </thead>\n",
              "  <tbody>\n",
              "    <tr>\n",
              "      <td>0</td>\n",
              "      <td>5.588064</td>\n",
              "      <td>5.236752</td>\n",
              "      <td>0.198065</td>\n",
              "      <td>00:02</td>\n",
              "    </tr>\n",
              "  </tbody>\n",
              "</table>"
            ],
            "text/plain": [
              "<IPython.core.display.HTML object>"
            ]
          },
          "metadata": {
            "tags": []
          }
        }
      ]
    },
    {
      "cell_type": "markdown",
      "metadata": {
        "id": "ACRrszjNe2f9"
      },
      "source": [
        "### Unfreeze the entire model \n",
        "To train the language model during fine-tuning, we unfreeze all the layers and then perform training for a reasonable time until we obtain a low enough validation loss. For a larger target vocabulary, these hyperparameters might need to be modified, and teh training time would be significantly longer, but for this SemEval task, we have a very small additional vocabulary to fine-tune the language model on, so it is really quick.\n"
      ]
    },
    {
      "cell_type": "code",
      "metadata": {
        "id": "t65eGRSme2f9",
        "colab": {
          "base_uri": "https://localhost:8080/",
          "height": 669
        },
        "outputId": "efcb7945-bf60-45a2-b61c-128656d4dae5"
      },
      "source": [
        "#@title\n",
        "learn.unfreeze()\n",
        "learn.fit_one_cycle(cyc_len=20, max_lr=1e-3, moms=(0.8, 0.7))"
      ],
      "execution_count": null,
      "outputs": [
        {
          "output_type": "display_data",
          "data": {
            "text/html": [
              "<table border=\"1\" class=\"dataframe\">\n",
              "  <thead>\n",
              "    <tr style=\"text-align: left;\">\n",
              "      <th>epoch</th>\n",
              "      <th>train_loss</th>\n",
              "      <th>valid_loss</th>\n",
              "      <th>accuracy</th>\n",
              "      <th>time</th>\n",
              "    </tr>\n",
              "  </thead>\n",
              "  <tbody>\n",
              "    <tr>\n",
              "      <td>0</td>\n",
              "      <td>5.161946</td>\n",
              "      <td>4.607910</td>\n",
              "      <td>0.240402</td>\n",
              "      <td>00:02</td>\n",
              "    </tr>\n",
              "    <tr>\n",
              "      <td>1</td>\n",
              "      <td>4.832207</td>\n",
              "      <td>4.191795</td>\n",
              "      <td>0.288690</td>\n",
              "      <td>00:02</td>\n",
              "    </tr>\n",
              "    <tr>\n",
              "      <td>2</td>\n",
              "      <td>4.535787</td>\n",
              "      <td>3.988767</td>\n",
              "      <td>0.324182</td>\n",
              "      <td>00:02</td>\n",
              "    </tr>\n",
              "    <tr>\n",
              "      <td>3</td>\n",
              "      <td>4.254678</td>\n",
              "      <td>3.776578</td>\n",
              "      <td>0.353348</td>\n",
              "      <td>00:02</td>\n",
              "    </tr>\n",
              "    <tr>\n",
              "      <td>4</td>\n",
              "      <td>3.954870</td>\n",
              "      <td>3.595392</td>\n",
              "      <td>0.376042</td>\n",
              "      <td>00:02</td>\n",
              "    </tr>\n",
              "    <tr>\n",
              "      <td>5</td>\n",
              "      <td>3.631924</td>\n",
              "      <td>3.453906</td>\n",
              "      <td>0.400298</td>\n",
              "      <td>00:02</td>\n",
              "    </tr>\n",
              "    <tr>\n",
              "      <td>6</td>\n",
              "      <td>3.277639</td>\n",
              "      <td>3.463776</td>\n",
              "      <td>0.419643</td>\n",
              "      <td>00:02</td>\n",
              "    </tr>\n",
              "    <tr>\n",
              "      <td>7</td>\n",
              "      <td>2.915834</td>\n",
              "      <td>3.489054</td>\n",
              "      <td>0.429762</td>\n",
              "      <td>00:03</td>\n",
              "    </tr>\n",
              "    <tr>\n",
              "      <td>8</td>\n",
              "      <td>2.565663</td>\n",
              "      <td>3.558904</td>\n",
              "      <td>0.431920</td>\n",
              "      <td>00:03</td>\n",
              "    </tr>\n",
              "    <tr>\n",
              "      <td>9</td>\n",
              "      <td>2.240226</td>\n",
              "      <td>3.592429</td>\n",
              "      <td>0.437277</td>\n",
              "      <td>00:03</td>\n",
              "    </tr>\n",
              "    <tr>\n",
              "      <td>10</td>\n",
              "      <td>1.963670</td>\n",
              "      <td>3.621137</td>\n",
              "      <td>0.443155</td>\n",
              "      <td>00:03</td>\n",
              "    </tr>\n",
              "    <tr>\n",
              "      <td>11</td>\n",
              "      <td>1.710601</td>\n",
              "      <td>3.683334</td>\n",
              "      <td>0.444271</td>\n",
              "      <td>00:03</td>\n",
              "    </tr>\n",
              "    <tr>\n",
              "      <td>12</td>\n",
              "      <td>1.497554</td>\n",
              "      <td>3.724555</td>\n",
              "      <td>0.446057</td>\n",
              "      <td>00:03</td>\n",
              "    </tr>\n",
              "    <tr>\n",
              "      <td>13</td>\n",
              "      <td>1.321173</td>\n",
              "      <td>3.709743</td>\n",
              "      <td>0.447024</td>\n",
              "      <td>00:03</td>\n",
              "    </tr>\n",
              "    <tr>\n",
              "      <td>14</td>\n",
              "      <td>1.180988</td>\n",
              "      <td>3.746826</td>\n",
              "      <td>0.446726</td>\n",
              "      <td>00:03</td>\n",
              "    </tr>\n",
              "    <tr>\n",
              "      <td>15</td>\n",
              "      <td>1.062146</td>\n",
              "      <td>3.748441</td>\n",
              "      <td>0.446949</td>\n",
              "      <td>00:03</td>\n",
              "    </tr>\n",
              "    <tr>\n",
              "      <td>16</td>\n",
              "      <td>0.968459</td>\n",
              "      <td>3.730348</td>\n",
              "      <td>0.450818</td>\n",
              "      <td>00:03</td>\n",
              "    </tr>\n",
              "    <tr>\n",
              "      <td>17</td>\n",
              "      <td>0.899104</td>\n",
              "      <td>3.732010</td>\n",
              "      <td>0.448512</td>\n",
              "      <td>00:03</td>\n",
              "    </tr>\n",
              "    <tr>\n",
              "      <td>18</td>\n",
              "      <td>0.846396</td>\n",
              "      <td>3.735059</td>\n",
              "      <td>0.448958</td>\n",
              "      <td>00:03</td>\n",
              "    </tr>\n",
              "    <tr>\n",
              "      <td>19</td>\n",
              "      <td>0.796944</td>\n",
              "      <td>3.733570</td>\n",
              "      <td>0.448958</td>\n",
              "      <td>00:03</td>\n",
              "    </tr>\n",
              "  </tbody>\n",
              "</table>"
            ],
            "text/plain": [
              "<IPython.core.display.HTML object>"
            ]
          },
          "metadata": {
            "tags": []
          }
        }
      ]
    },
    {
      "cell_type": "code",
      "metadata": {
        "id": "JQpB4H4ke2f9"
      },
      "source": [
        "#@title\n",
        "# Save the fine-tuned encoder\n",
        "learn.save_encoder('ft_enc')"
      ],
      "execution_count": null,
      "outputs": []
    },
    {
      "cell_type": "markdown",
      "metadata": {
        "id": "NUnBWHBFe2f-"
      },
      "source": [
        "## 5.2 Train the Classifier: SemEval Tweets only"
      ]
    },
    {
      "cell_type": "markdown",
      "metadata": {
        "id": "I34P92j3e2f-"
      },
      "source": [
        "For classification, the [winning paper for the SemEval 2016](https://www.aclweb.org/anthology/S/S16/S16-1074.pdf) task (team MITRE) describe in section $5$ of their paper that they achieved their highest average F1 score when they trained 5 *distinct* classifiers, i.e. a separate training task for each of the 5 topics in the training data. \n",
        "\n",
        "Hence, in this notebook we only perform classification for one *topic* at a time. Evaluation of the predicted classes is also done on a per-topic basis. "
      ]
    },
    {
      "cell_type": "markdown",
      "metadata": {
        "id": "YoePvMlQe2f-"
      },
      "source": [
        "### Identify the 5 topics in our training data"
      ]
    },
    {
      "cell_type": "code",
      "metadata": {
        "id": "9Etqz6h7e2f-",
        "colab": {
          "base_uri": "https://localhost:8080/"
        },
        "outputId": "581f0e65-65c6-4fb2-a18c-15ced2133cb8"
      },
      "source": [
        "#@title\n",
        "# for item in train_orig.Target.unique():\n",
        "#     print(item)"
      ],
      "execution_count": null,
      "outputs": [
        {
          "output_type": "stream",
          "text": [
            "More people will die as a result of a negative side effect to the COVID-19 vaccine than would actually die from the coronavirus.\n",
            "The COVID-19 vaccine causes infertility or miscarriages in women.\n",
            "The COVID-19 vaccine causes Bell's palsy.\n",
            "Natural COVID-19 immunity is better than immunity derived from a COVID-19 vaccine.\n",
            "RNA alters a person's DNA when taking the COVID-19 vaccine.\n",
            "There are severe side effects of the COVID-19 vaccines, worse than having the virus.\n",
            "The COVID-19 vaccine was developed to control the general population either through microchip tracking or nanotransducers in our brains.\n",
            "The COVID-19 vaccine contains tissue from aborted fetuses.\n"
          ],
          "name": "stdout"
        }
      ]
    },
    {
      "cell_type": "markdown",
      "metadata": {
        "id": "4YbBVu1ze2f-"
      },
      "source": [
        "### Specify the topic we want to classify for\n",
        "We specify the topic name exactly as the training data does, and use it to subset the Pandas DataFrame."
      ]
    },
    {
      "cell_type": "code",
      "metadata": {
        "id": "KYW8O23he2f_"
      },
      "source": [
        "#@title\n",
        "# Write train to csv\n",
        "train.to_csv(path/'train1.csv', index=False, header=False)"
      ],
      "execution_count": null,
      "outputs": []
    },
    {
      "cell_type": "markdown",
      "metadata": {
        "id": "q9JjFZEze2f_"
      },
      "source": [
        "### Create classification dataloader\n",
        "For classification, the ```TextClasDataBunch```  [[source](https://docs.fast.ai/text.data.html#TextClasDataBunch)] dataloader used is slightly different. Just like the language model custom data loader described in the previous section, it does a lot under the hood. The classification data loader tokenizes the training data, but batchifies the data differently from the language model data loader - for classification, we perform sorting so as to group all large sentences together, and smaller sentences together - and pad them to have all batches of roughly the same length, followed by randomizing these batches so that we don't introduce additional bias during training.\n",
        "\n",
        "Just like before, we define the learner object used for classification. Note that we feed in the entire vocabulary of the training data to the classifier. We once more specify a minimum word frequency of 1 (i.e. words that appear just once in the data are given the tag ```<unk>```."
      ]
    },
    {
      "cell_type": "code",
      "metadata": {
        "id": "Cmaf01K_e2f_",
        "colab": {
          "base_uri": "https://localhost:8080/",
          "height": 122
        },
        "outputId": "c2f0638c-7d79-4697-d27d-6e041101fef8"
      },
      "source": [
        "\n",
        "# Classifier model data\n",
        "data_clas = TextClasDataBunch.from_csv(path, 'train1.csv', vocab=data_lm.train_ds.vocab,min_freq=1, bs=32)\n",
        "data_clas.save()"
      ],
      "execution_count": null,
      "outputs": [
        {
          "output_type": "display_data",
          "data": {
            "text/html": [
              ""
            ],
            "text/plain": [
              "<IPython.core.display.HTML object>"
            ]
          },
          "metadata": {
            "tags": []
          }
        },
        {
          "output_type": "stream",
          "text": [
            "/usr/local/lib/python3.7/dist-packages/fastai/core.py:302: VisibleDeprecationWarning: Creating an ndarray from ragged nested sequences (which is a list-or-tuple of lists-or-tuples-or ndarrays with different lengths or shapes) is deprecated. If you meant to do this, you must specify 'dtype=object' when creating the ndarray\n",
            "  return np.array(a, dtype=dtype, **kwargs)\n"
          ],
          "name": "stderr"
        },
        {
          "output_type": "display_data",
          "data": {
            "text/html": [
              ""
            ],
            "text/plain": [
              "<IPython.core.display.HTML object>"
            ]
          },
          "metadata": {
            "tags": []
          }
        },
        {
          "output_type": "stream",
          "text": [
            "/usr/local/lib/python3.7/dist-packages/numpy/core/_asarray.py:83: VisibleDeprecationWarning: Creating an ndarray from ragged nested sequences (which is a list-or-tuple of lists-or-tuples-or ndarrays with different lengths or shapes) is deprecated. If you meant to do this, you must specify 'dtype=object' when creating the ndarray\n",
            "  return array(a, dtype, copy=False, order=order)\n",
            "<string>:6: VisibleDeprecationWarning: Creating an ndarray from ragged nested sequences (which is a list-or-tuple of lists-or-tuples-or ndarrays with different lengths or shapes) is deprecated. If you meant to do this, you must specify 'dtype=object' when creating the ndarray\n"
          ],
          "name": "stderr"
        }
      ]
    },
    {
      "cell_type": "code",
      "metadata": {
        "id": "v_wyjliCe2f_"
      },
      "source": [
        "learn = text_classifier_learner(data_clas,AWD_LSTM,drop_mult=0.5)\n",
        "learn.load_encoder('ft_enc')\n",
        "learn.freeze()"
      ],
      "execution_count": null,
      "outputs": []
    },
    {
      "cell_type": "markdown",
      "metadata": {
        "id": "dHwyki_fe2f_"
      },
      "source": [
        "Note that we begin the training with all the outer layers as frozen. The fine-tuned language model is read in, and we use a dropout multiplier as shown above. \n",
        "\n",
        "For training the classifier, we apply \"gradual unfreezing\", to avoid \"catastrophic forgetting\" as explained in section $3.3$ of [Howard and Ruder's paper](https://arxiv.org/pdf/1801.06146.pdf). In addition to gradual unfreezing, "
      ]
    },
    {
      "cell_type": "markdown",
      "metadata": {
        "id": "xoDnydO0e2f_"
      },
      "source": [
        "### Just as before, find optimum learning rate for the classifier"
      ]
    },
    {
      "cell_type": "code",
      "metadata": {
        "id": "3m3CA4_-e2f_",
        "colab": {
          "base_uri": "https://localhost:8080/",
          "height": 527
        },
        "outputId": "eefa5c58-2bce-42fd-e005-351aeea0d03f"
      },
      "source": [
        "\n",
        "learn.lr_find(start_lr=1e-8, end_lr=1e2)\n",
        "learn.recorder.plot()"
      ],
      "execution_count": null,
      "outputs": [
        {
          "output_type": "display_data",
          "data": {
            "text/html": [
              "\n",
              "    <div>\n",
              "        <style>\n",
              "            /* Turns off some styling */\n",
              "            progress {\n",
              "                /* gets rid of default border in Firefox and Opera. */\n",
              "                border: none;\n",
              "                /* Needs to be in here for Safari polyfill so background images work as expected. */\n",
              "                background-size: auto;\n",
              "            }\n",
              "            .progress-bar-interrupted, .progress-bar-interrupted::-webkit-progress-bar {\n",
              "                background: #F44336;\n",
              "            }\n",
              "        </style>\n",
              "      <progress value='1' class='' max='3' style='width:300px; height:20px; vertical-align: middle;'></progress>\n",
              "      33.33% [1/3 00:01<00:02]\n",
              "    </div>\n",
              "    \n",
              "<table border=\"1\" class=\"dataframe\">\n",
              "  <thead>\n",
              "    <tr style=\"text-align: left;\">\n",
              "      <th>epoch</th>\n",
              "      <th>train_loss</th>\n",
              "      <th>valid_loss</th>\n",
              "      <th>accuracy</th>\n",
              "      <th>time</th>\n",
              "    </tr>\n",
              "  </thead>\n",
              "  <tbody>\n",
              "    <tr>\n",
              "      <td>0</td>\n",
              "      <td>1.547940</td>\n",
              "      <td>#na#</td>\n",
              "      <td>00:01</td>\n",
              "    </tr>\n",
              "  </tbody>\n",
              "</table><p>\n",
              "\n",
              "    <div>\n",
              "        <style>\n",
              "            /* Turns off some styling */\n",
              "            progress {\n",
              "                /* gets rid of default border in Firefox and Opera. */\n",
              "                border: none;\n",
              "                /* Needs to be in here for Safari polyfill so background images work as expected. */\n",
              "                background-size: auto;\n",
              "            }\n",
              "            .progress-bar-interrupted, .progress-bar-interrupted::-webkit-progress-bar {\n",
              "                background: #F44336;\n",
              "            }\n",
              "        </style>\n",
              "      <progress value='35' class='' max='49' style='width:300px; height:20px; vertical-align: middle;'></progress>\n",
              "      71.43% [35/49 00:01<00:00 1.8109]\n",
              "    </div>\n",
              "    "
            ],
            "text/plain": [
              "<IPython.core.display.HTML object>"
            ]
          },
          "metadata": {
            "tags": []
          }
        },
        {
          "output_type": "stream",
          "text": [
            "/usr/local/lib/python3.7/dist-packages/numpy/core/_asarray.py:83: VisibleDeprecationWarning: Creating an ndarray from ragged nested sequences (which is a list-or-tuple of lists-or-tuples-or ndarrays with different lengths or shapes) is deprecated. If you meant to do this, you must specify 'dtype=object' when creating the ndarray\n",
            "  return array(a, dtype, copy=False, order=order)\n",
            "<string>:6: VisibleDeprecationWarning: Creating an ndarray from ragged nested sequences (which is a list-or-tuple of lists-or-tuples-or ndarrays with different lengths or shapes) is deprecated. If you meant to do this, you must specify 'dtype=object' when creating the ndarray\n",
            "/usr/local/lib/python3.7/dist-packages/numpy/core/_asarray.py:83: VisibleDeprecationWarning: Creating an ndarray from ragged nested sequences (which is a list-or-tuple of lists-or-tuples-or ndarrays with different lengths or shapes) is deprecated. If you meant to do this, you must specify 'dtype=object' when creating the ndarray\n",
            "  return array(a, dtype, copy=False, order=order)\n",
            "<string>:6: VisibleDeprecationWarning: Creating an ndarray from ragged nested sequences (which is a list-or-tuple of lists-or-tuples-or ndarrays with different lengths or shapes) is deprecated. If you meant to do this, you must specify 'dtype=object' when creating the ndarray\n"
          ],
          "name": "stderr"
        },
        {
          "output_type": "stream",
          "text": [
            "LR Finder is complete, type {learner_name}.recorder.plot() to see the graph.\n"
          ],
          "name": "stdout"
        },
        {
          "output_type": "display_data",
          "data": {
            "image/png": "[encoded data removed]",
            "text/plain": [
              "<Figure size 432x288 with 1 Axes>"
            ]
          },
          "metadata": {
            "tags": [],
            "needs_background": "light"
          }
        }
      ]
    },
    {
      "cell_type": "markdown",
      "metadata": {
        "id": "BqYPZOo7e2gA"
      },
      "source": [
        "### Carefully train the classifier\n",
        "During classification, we gradually unfreeze layers as shown below. This helps us obtain a better classification accuracy than if we were to aggressively train all the layers at once. "
      ]
    },
    {
      "cell_type": "code",
      "metadata": {
        "id": "k6_OgEhDe2gA",
        "colab": {
          "base_uri": "https://localhost:8080/",
          "height": 151
        },
        "outputId": "5c7daa85-7a9c-4ea6-a348-c779b6420cda"
      },
      "source": [
        "#@title\n",
        "learn.fit_one_cycle(cyc_len=1, max_lr=1e-3, moms=(0.8, 0.7))"
      ],
      "execution_count": null,
      "outputs": [
        {
          "output_type": "display_data",
          "data": {
            "text/html": [
              "<table border=\"1\" class=\"dataframe\">\n",
              "  <thead>\n",
              "    <tr style=\"text-align: left;\">\n",
              "      <th>epoch</th>\n",
              "      <th>train_loss</th>\n",
              "      <th>valid_loss</th>\n",
              "      <th>accuracy</th>\n",
              "      <th>time</th>\n",
              "    </tr>\n",
              "  </thead>\n",
              "  <tbody>\n",
              "    <tr>\n",
              "      <td>0</td>\n",
              "      <td>1.469406</td>\n",
              "      <td>1.215937</td>\n",
              "      <td>0.462500</td>\n",
              "      <td>00:02</td>\n",
              "    </tr>\n",
              "  </tbody>\n",
              "</table>"
            ],
            "text/plain": [
              "<IPython.core.display.HTML object>"
            ]
          },
          "metadata": {
            "tags": []
          }
        },
        {
          "output_type": "stream",
          "text": [
            "/usr/local/lib/python3.7/dist-packages/numpy/core/_asarray.py:83: VisibleDeprecationWarning: Creating an ndarray from ragged nested sequences (which is a list-or-tuple of lists-or-tuples-or ndarrays with different lengths or shapes) is deprecated. If you meant to do this, you must specify 'dtype=object' when creating the ndarray\n",
            "  return array(a, dtype, copy=False, order=order)\n",
            "<string>:6: VisibleDeprecationWarning: Creating an ndarray from ragged nested sequences (which is a list-or-tuple of lists-or-tuples-or ndarrays with different lengths or shapes) is deprecated. If you meant to do this, you must specify 'dtype=object' when creating the ndarray\n"
          ],
          "name": "stderr"
        }
      ]
    },
    {
      "cell_type": "code",
      "metadata": {
        "id": "iSbx0k_Me2gA",
        "colab": {
          "base_uri": "https://localhost:8080/",
          "height": 151
        },
        "outputId": "2831709a-28c2-43f7-844f-7f234dc0b4a6"
      },
      "source": [
        "# #@title\n",
        "learn.freeze_to(-2)\n",
        "learn.fit_one_cycle(1, slice(1e-4,1e-2), moms=(0.8,0.7))"
      ],
      "execution_count": null,
      "outputs": [
        {
          "output_type": "display_data",
          "data": {
            "text/html": [
              "<table border=\"1\" class=\"dataframe\">\n",
              "  <thead>\n",
              "    <tr style=\"text-align: left;\">\n",
              "      <th>epoch</th>\n",
              "      <th>train_loss</th>\n",
              "      <th>valid_loss</th>\n",
              "      <th>accuracy</th>\n",
              "      <th>time</th>\n",
              "    </tr>\n",
              "  </thead>\n",
              "  <tbody>\n",
              "    <tr>\n",
              "      <td>0</td>\n",
              "      <td>1.341401</td>\n",
              "      <td>1.189906</td>\n",
              "      <td>0.497500</td>\n",
              "      <td>00:02</td>\n",
              "    </tr>\n",
              "  </tbody>\n",
              "</table>"
            ],
            "text/plain": [
              "<IPython.core.display.HTML object>"
            ]
          },
          "metadata": {
            "tags": []
          }
        },
        {
          "output_type": "stream",
          "text": [
            "/usr/local/lib/python3.7/dist-packages/numpy/core/_asarray.py:83: VisibleDeprecationWarning: Creating an ndarray from ragged nested sequences (which is a list-or-tuple of lists-or-tuples-or ndarrays with different lengths or shapes) is deprecated. If you meant to do this, you must specify 'dtype=object' when creating the ndarray\n",
            "  return array(a, dtype, copy=False, order=order)\n",
            "<string>:6: VisibleDeprecationWarning: Creating an ndarray from ragged nested sequences (which is a list-or-tuple of lists-or-tuples-or ndarrays with different lengths or shapes) is deprecated. If you meant to do this, you must specify 'dtype=object' when creating the ndarray\n"
          ],
          "name": "stderr"
        }
      ]
    },
    {
      "cell_type": "code",
      "metadata": {
        "id": "cnPFFlNZe2gA",
        "colab": {
          "base_uri": "https://localhost:8080/",
          "height": 151
        },
        "outputId": "f541ecb8-f7ec-40c8-b4b8-3a13e399021e"
      },
      "source": [
        "# #@title\n",
        "learn.freeze_to(-3)\n",
        "learn.fit_one_cycle(1, slice(1e-5,5e-3), moms=(0.8,0.7))"
      ],
      "execution_count": null,
      "outputs": [
        {
          "output_type": "display_data",
          "data": {
            "text/html": [
              "<table border=\"1\" class=\"dataframe\">\n",
              "  <thead>\n",
              "    <tr style=\"text-align: left;\">\n",
              "      <th>epoch</th>\n",
              "      <th>train_loss</th>\n",
              "      <th>valid_loss</th>\n",
              "      <th>accuracy</th>\n",
              "      <th>time</th>\n",
              "    </tr>\n",
              "  </thead>\n",
              "  <tbody>\n",
              "    <tr>\n",
              "      <td>0</td>\n",
              "      <td>1.228179</td>\n",
              "      <td>1.079992</td>\n",
              "      <td>0.555000</td>\n",
              "      <td>00:03</td>\n",
              "    </tr>\n",
              "  </tbody>\n",
              "</table>"
            ],
            "text/plain": [
              "<IPython.core.display.HTML object>"
            ]
          },
          "metadata": {
            "tags": []
          }
        },
        {
          "output_type": "stream",
          "text": [
            "/usr/local/lib/python3.7/dist-packages/numpy/core/_asarray.py:83: VisibleDeprecationWarning: Creating an ndarray from ragged nested sequences (which is a list-or-tuple of lists-or-tuples-or ndarrays with different lengths or shapes) is deprecated. If you meant to do this, you must specify 'dtype=object' when creating the ndarray\n",
            "  return array(a, dtype, copy=False, order=order)\n",
            "<string>:6: VisibleDeprecationWarning: Creating an ndarray from ragged nested sequences (which is a list-or-tuple of lists-or-tuples-or ndarrays with different lengths or shapes) is deprecated. If you meant to do this, you must specify 'dtype=object' when creating the ndarray\n"
          ],
          "name": "stderr"
        }
      ]
    },
    {
      "cell_type": "code",
      "metadata": {
        "id": "HdnHvABJe2gA",
        "colab": {
          "base_uri": "https://localhost:8080/",
          "height": 397
        },
        "outputId": "e63799af-79ab-48ed-aa3f-1824d8a4565d"
      },
      "source": [
        "#@title\n",
        "learn.unfreeze()\n",
        "learn.fit_one_cycle(4, slice(1e-5,1e-3), moms=(0.8,0.7))"
      ],
      "execution_count": null,
      "outputs": [
        {
          "output_type": "display_data",
          "data": {
            "text/html": [
              "<table border=\"1\" class=\"dataframe\">\n",
              "  <thead>\n",
              "    <tr style=\"text-align: left;\">\n",
              "      <th>epoch</th>\n",
              "      <th>train_loss</th>\n",
              "      <th>valid_loss</th>\n",
              "      <th>accuracy</th>\n",
              "      <th>time</th>\n",
              "    </tr>\n",
              "  </thead>\n",
              "  <tbody>\n",
              "    <tr>\n",
              "      <td>0</td>\n",
              "      <td>1.142209</td>\n",
              "      <td>1.066289</td>\n",
              "      <td>0.550000</td>\n",
              "      <td>00:03</td>\n",
              "    </tr>\n",
              "    <tr>\n",
              "      <td>1</td>\n",
              "      <td>1.108103</td>\n",
              "      <td>1.010678</td>\n",
              "      <td>0.585000</td>\n",
              "      <td>00:04</td>\n",
              "    </tr>\n",
              "    <tr>\n",
              "      <td>2</td>\n",
              "      <td>1.065653</td>\n",
              "      <td>1.023291</td>\n",
              "      <td>0.587500</td>\n",
              "      <td>00:04</td>\n",
              "    </tr>\n",
              "    <tr>\n",
              "      <td>3</td>\n",
              "      <td>1.026013</td>\n",
              "      <td>1.006201</td>\n",
              "      <td>0.590000</td>\n",
              "      <td>00:04</td>\n",
              "    </tr>\n",
              "  </tbody>\n",
              "</table>"
            ],
            "text/plain": [
              "<IPython.core.display.HTML object>"
            ]
          },
          "metadata": {
            "tags": []
          }
        },
        {
          "output_type": "stream",
          "text": [
            "/usr/local/lib/python3.7/dist-packages/numpy/core/_asarray.py:83: VisibleDeprecationWarning: Creating an ndarray from ragged nested sequences (which is a list-or-tuple of lists-or-tuples-or ndarrays with different lengths or shapes) is deprecated. If you meant to do this, you must specify 'dtype=object' when creating the ndarray\n",
            "  return array(a, dtype, copy=False, order=order)\n",
            "<string>:6: VisibleDeprecationWarning: Creating an ndarray from ragged nested sequences (which is a list-or-tuple of lists-or-tuples-or ndarrays with different lengths or shapes) is deprecated. If you meant to do this, you must specify 'dtype=object' when creating the ndarray\n",
            "/usr/local/lib/python3.7/dist-packages/numpy/core/_asarray.py:83: VisibleDeprecationWarning: Creating an ndarray from ragged nested sequences (which is a list-or-tuple of lists-or-tuples-or ndarrays with different lengths or shapes) is deprecated. If you meant to do this, you must specify 'dtype=object' when creating the ndarray\n",
            "  return array(a, dtype, copy=False, order=order)\n",
            "<string>:6: VisibleDeprecationWarning: Creating an ndarray from ragged nested sequences (which is a list-or-tuple of lists-or-tuples-or ndarrays with different lengths or shapes) is deprecated. If you meant to do this, you must specify 'dtype=object' when creating the ndarray\n",
            "/usr/local/lib/python3.7/dist-packages/numpy/core/_asarray.py:83: VisibleDeprecationWarning: Creating an ndarray from ragged nested sequences (which is a list-or-tuple of lists-or-tuples-or ndarrays with different lengths or shapes) is deprecated. If you meant to do this, you must specify 'dtype=object' when creating the ndarray\n",
            "  return array(a, dtype, copy=False, order=order)\n",
            "<string>:6: VisibleDeprecationWarning: Creating an ndarray from ragged nested sequences (which is a list-or-tuple of lists-or-tuples-or ndarrays with different lengths or shapes) is deprecated. If you meant to do this, you must specify 'dtype=object' when creating the ndarray\n",
            "/usr/local/lib/python3.7/dist-packages/numpy/core/_asarray.py:83: VisibleDeprecationWarning: Creating an ndarray from ragged nested sequences (which is a list-or-tuple of lists-or-tuples-or ndarrays with different lengths or shapes) is deprecated. If you meant to do this, you must specify 'dtype=object' when creating the ndarray\n",
            "  return array(a, dtype, copy=False, order=order)\n",
            "<string>:6: VisibleDeprecationWarning: Creating an ndarray from ragged nested sequences (which is a list-or-tuple of lists-or-tuples-or ndarrays with different lengths or shapes) is deprecated. If you meant to do this, you must specify 'dtype=object' when creating the ndarray\n"
          ],
          "name": "stderr"
        }
      ]
    },
    {
      "cell_type": "markdown",
      "metadata": {
        "id": "MwEPi1Dbe2gB"
      },
      "source": [
        "### Cross-tabulate the predictions for each class\n",
        "The below table shows the predicted classes for the topic in concern. The actual evaluation of the F1 score of the classification result is done at a later step."
      ]
    },
    {
      "cell_type": "code",
      "metadata": {
        "id": "NkU4LjBBe2gB",
        "colab": {
          "base_uri": "https://localhost:8080/",
          "height": 204
        },
        "outputId": "fe1845d4-895c-4b4c-aabf-76b5aebd837c"
      },
      "source": [
        "#@title\n",
        "# get predictions\n",
        "preds, targets = learn.get_preds()\n",
        "predictions = np.argmax(preds, axis=1)\n",
        "\n",
        "pd.crosstab(predictions, targets)"
      ],
      "execution_count": null,
      "outputs": [
        {
          "output_type": "display_data",
          "data": {
            "text/html": [
              ""
            ],
            "text/plain": [
              "<IPython.core.display.HTML object>"
            ]
          },
          "metadata": {
            "tags": []
          }
        },
        {
          "output_type": "execute_result",
          "data": {
            "text/html": [
              "<div>\n",
              "<style scoped>\n",
              "    .dataframe tbody tr th:only-of-type {\n",
              "        vertical-align: middle;\n",
              "    }\n",
              "\n",
              "    .dataframe tbody tr th {\n",
              "        vertical-align: top;\n",
              "    }\n",
              "\n",
              "    .dataframe thead th {\n",
              "        text-align: right;\n",
              "    }\n",
              "</style>\n",
              "<table border=\"1\" class=\"dataframe\">\n",
              "  <thead>\n",
              "    <tr style=\"text-align: right;\">\n",
              "      <th>col_0</th>\n",
              "      <th>0</th>\n",
              "      <th>1</th>\n",
              "      <th>2</th>\n",
              "      <th>3</th>\n",
              "    </tr>\n",
              "    <tr>\n",
              "      <th>row_0</th>\n",
              "      <th></th>\n",
              "      <th></th>\n",
              "      <th></th>\n",
              "      <th></th>\n",
              "    </tr>\n",
              "  </thead>\n",
              "  <tbody>\n",
              "    <tr>\n",
              "      <th>0</th>\n",
              "      <td>91</td>\n",
              "      <td>28</td>\n",
              "      <td>18</td>\n",
              "      <td>24</td>\n",
              "    </tr>\n",
              "    <tr>\n",
              "      <th>1</th>\n",
              "      <td>5</td>\n",
              "      <td>33</td>\n",
              "      <td>3</td>\n",
              "      <td>5</td>\n",
              "    </tr>\n",
              "    <tr>\n",
              "      <th>2</th>\n",
              "      <td>4</td>\n",
              "      <td>2</td>\n",
              "      <td>8</td>\n",
              "      <td>6</td>\n",
              "    </tr>\n",
              "    <tr>\n",
              "      <th>3</th>\n",
              "      <td>34</td>\n",
              "      <td>16</td>\n",
              "      <td>19</td>\n",
              "      <td>104</td>\n",
              "    </tr>\n",
              "  </tbody>\n",
              "</table>\n",
              "</div>"
            ],
            "text/plain": [
              "col_0   0   1   2    3\n",
              "row_0                 \n",
              "0      91  28  18   24\n",
              "1       5  33   3    5\n",
              "2       4   2   8    6\n",
              "3      34  16  19  104"
            ]
          },
          "metadata": {
            "tags": []
          },
          "execution_count": 128
        }
      ]
    },
    {
      "cell_type": "code",
      "metadata": {
        "colab": {
          "base_uri": "https://localhost:8080/"
        },
        "id": "amaRx89SivAf",
        "outputId": "902ba42b-ac8b-4a0b-b1e0-c84be2a8744a"
      },
      "source": [
        "# print(predictions)"
      ],
      "execution_count": null,
      "outputs": [
        {
          "output_type": "stream",
          "text": [
            "tensor([[ 1, 52, 46,  ..., 52, 52, 52],\n",
            "        [ 0, 10, 52,  ..., 10, 10, 10],\n",
            "        [ 0, 41, 10,  ..., 37, 37, 37],\n",
            "        ...,\n",
            "        [16, 15, 35,  ..., 15, 15, 15],\n",
            "        [28, 26, 57,  ..., 26, 26, 26],\n",
            "        [10,  2, 12,  ...,  2,  2,  2]])\n"
          ],
          "name": "stdout"
        }
      ]
    },
    {
      "cell_type": "markdown",
      "metadata": {
        "id": "p6zyqWJue2gB"
      },
      "source": [
        "## Evaluate the predicted results from the classifier (SemEval tweets only)\n",
        "We read in the test dataset and store in a Pandas DataFrame as shown."
      ]
    },
    {
      "cell_type": "code",
      "metadata": {
        "id": "8NvBYNeye2gB",
        "colab": {
          "base_uri": "https://localhost:8080/",
          "height": 204
        },
        "outputId": "4175cabf-02ad-4a75-9ebd-9cba6bf1c63f"
      },
      "source": [
        "#@title\n",
        "test = pd.read_csv(path/testfile, delimiter='\\t', header=0, encoding = \"latin-1\")\n",
        "test = test.drop(['ID'], axis=1)\n",
        "# test['Tweet'] = test['Tweet'].apply(clean_ascii)\n",
        "test.head()"
      ],
      "execution_count": null,
      "outputs": [
        {
          "output_type": "execute_result",
          "data": {
            "text/html": [
              "<div>\n",
              "<style scoped>\n",
              "    .dataframe tbody tr th:only-of-type {\n",
              "        vertical-align: middle;\n",
              "    }\n",
              "\n",
              "    .dataframe tbody tr th {\n",
              "        vertical-align: top;\n",
              "    }\n",
              "\n",
              "    .dataframe thead th {\n",
              "        text-align: right;\n",
              "    }\n",
              "</style>\n",
              "<table border=\"1\" class=\"dataframe\">\n",
              "  <thead>\n",
              "    <tr style=\"text-align: right;\">\n",
              "      <th></th>\n",
              "      <th>Target</th>\n",
              "      <th>Tweet</th>\n",
              "      <th>Stance</th>\n",
              "    </tr>\n",
              "  </thead>\n",
              "  <tbody>\n",
              "    <tr>\n",
              "      <th>0</th>\n",
              "      <td>There are severe side effects of the COVID-19 ...</td>\n",
              "      <td>Just so y'all know, it's possible that the vac...</td>\n",
              "      <td>UNKNOWN</td>\n",
              "    </tr>\n",
              "    <tr>\n",
              "      <th>1</th>\n",
              "      <td>Natural COVID-19 immunity is better than immun...</td>\n",
              "      <td>@JCope222 Vaccine is untested for safety. Peop...</td>\n",
              "      <td>UNKNOWN</td>\n",
              "    </tr>\n",
              "    <tr>\n",
              "      <th>2</th>\n",
              "      <td>Natural COVID-19 immunity is better than immun...</td>\n",
              "      <td>@catturd2 Why would antibodies formed from rec...</td>\n",
              "      <td>UNKNOWN</td>\n",
              "    </tr>\n",
              "    <tr>\n",
              "      <th>3</th>\n",
              "      <td>There are severe side effects of the COVID-19 ...</td>\n",
              "      <td>I started thinking about the long term effects...</td>\n",
              "      <td>UNKNOWN</td>\n",
              "    </tr>\n",
              "    <tr>\n",
              "      <th>4</th>\n",
              "      <td>Natural COVID-19 immunity is better than immun...</td>\n",
              "      <td>I like vaccine herd immunity over infection he...</td>\n",
              "      <td>UNKNOWN</td>\n",
              "    </tr>\n",
              "  </tbody>\n",
              "</table>\n",
              "</div>"
            ],
            "text/plain": [
              "                                              Target  ...   Stance\n",
              "0  There are severe side effects of the COVID-19 ...  ...  UNKNOWN\n",
              "1  Natural COVID-19 immunity is better than immun...  ...  UNKNOWN\n",
              "2  Natural COVID-19 immunity is better than immun...  ...  UNKNOWN\n",
              "3  There are severe side effects of the COVID-19 ...  ...  UNKNOWN\n",
              "4  Natural COVID-19 immunity is better than immun...  ...  UNKNOWN\n",
              "\n",
              "[5 rows x 3 columns]"
            ]
          },
          "metadata": {
            "tags": []
          },
          "execution_count": 129
        }
      ]
    },
    {
      "cell_type": "markdown",
      "metadata": {
        "id": "3XUxf7n_e2gB"
      },
      "source": [
        "Since we do not yet know the stance for the test set, it is marked as \"UNKNOWN\". "
      ]
    },
    {
      "cell_type": "markdown",
      "metadata": {
        "id": "EWbCeoLye2gB"
      },
      "source": [
        "### Filter the test data set based on topic we are classifying for"
      ]
    },
    {
      "cell_type": "code",
      "metadata": {
        "id": "tq_ozclGe2gB",
        "colab": {
          "base_uri": "https://localhost:8080/",
          "height": 204
        },
        "outputId": "6d8f009c-b28d-4ead-e1d2-6decf4d06400"
      },
      "source": [
        "#@title\n",
        "test_pred = test[['Target', 'Tweet']]\n",
        "# test_pred = test_pred.loc[test_pred['Target'] == topic]\n",
        "test_pred.tail()\n"
      ],
      "execution_count": null,
      "outputs": [
        {
          "output_type": "execute_result",
          "data": {
            "text/html": [
              "<div>\n",
              "<style scoped>\n",
              "    .dataframe tbody tr th:only-of-type {\n",
              "        vertical-align: middle;\n",
              "    }\n",
              "\n",
              "    .dataframe tbody tr th {\n",
              "        vertical-align: top;\n",
              "    }\n",
              "\n",
              "    .dataframe thead th {\n",
              "        text-align: right;\n",
              "    }\n",
              "</style>\n",
              "<table border=\"1\" class=\"dataframe\">\n",
              "  <thead>\n",
              "    <tr style=\"text-align: right;\">\n",
              "      <th></th>\n",
              "      <th>Target</th>\n",
              "      <th>Tweet</th>\n",
              "    </tr>\n",
              "  </thead>\n",
              "  <tbody>\n",
              "    <tr>\n",
              "      <th>1206</th>\n",
              "      <td>The COVID-19 vaccine causes infertility or mis...</td>\n",
              "      <td>@talkRADIO @PatrickChristys URL: \"Information ...</td>\n",
              "    </tr>\n",
              "    <tr>\n",
              "      <th>1207</th>\n",
              "      <td>The COVID-19 vaccine causes infertility or mis...</td>\n",
              "      <td>COVID Vaccine Could Make The Virus Far More De...</td>\n",
              "    </tr>\n",
              "    <tr>\n",
              "      <th>1208</th>\n",
              "      <td>The COVID-19 vaccine causes Bell's palsy.</td>\n",
              "      <td>At least four individuals contracted Bell's Pa...</td>\n",
              "    </tr>\n",
              "    <tr>\n",
              "      <th>1209</th>\n",
              "      <td>RNA alters a person's DNA when taking the COVI...</td>\n",
              "      <td>And RNA changes your DNA. Do not take the vacc...</td>\n",
              "    </tr>\n",
              "    <tr>\n",
              "      <th>1210</th>\n",
              "      <td>The COVID-19 vaccine causes infertility or mis...</td>\n",
              "      <td>Covid vaccine is Not safe it changes our genes...</td>\n",
              "    </tr>\n",
              "  </tbody>\n",
              "</table>\n",
              "</div>"
            ],
            "text/plain": [
              "                                                 Target                                              Tweet\n",
              "1206  The COVID-19 vaccine causes infertility or mis...  @talkRADIO @PatrickChristys URL: \"Information ...\n",
              "1207  The COVID-19 vaccine causes infertility or mis...  COVID Vaccine Could Make The Virus Far More De...\n",
              "1208          The COVID-19 vaccine causes Bell's palsy.  At least four individuals contracted Bell's Pa...\n",
              "1209  RNA alters a person's DNA when taking the COVI...  And RNA changes your DNA. Do not take the vacc...\n",
              "1210  The COVID-19 vaccine causes infertility or mis...  Covid vaccine is Not safe it changes our genes..."
            ]
          },
          "metadata": {
            "tags": []
          },
          "execution_count": 130
        }
      ]
    },
    {
      "cell_type": "code",
      "metadata": {
        "colab": {
          "base_uri": "https://localhost:8080/"
        },
        "id": "_D95nqEdnFNI",
        "outputId": "9dea259d-b13d-4a2c-f296-9f813498f430"
      },
      "source": [
        "print(learn.predict(\"@WillWinWon @mynameisjerm BILL GATES Admits Covid Vaccine ALTERS DNA URL\")[0])"
      ],
      "execution_count": null,
      "outputs": [
        {
          "output_type": "stream",
          "text": [
            "agree\n"
          ],
          "name": "stdout"
        }
      ]
    },
    {
      "cell_type": "markdown",
      "metadata": {
        "id": "Wpq_Cyl2e2gC"
      },
      "source": [
        "### Apply the learner's ```predict``` method to produce our prediction"
      ]
    },
    {
      "cell_type": "code",
      "metadata": {
        "id": "Ux0AgmT2e2gC"
      },
      "source": [
        "#@title\n",
        "test_pred['Stance'] = test_pred['Tweet'].apply(lambda row: str(learn.predict(row)[0]))"
      ],
      "execution_count": null,
      "outputs": []
    },
    {
      "cell_type": "code",
      "metadata": {
        "id": "IxE20Fcje2gC",
        "colab": {
          "base_uri": "https://localhost:8080/",
          "height": 204
        },
        "outputId": "f6952144-c365-46a0-96f7-b16e465b9914"
      },
      "source": [
        "#@title\n",
        "test_pred.tail()"
      ],
      "execution_count": null,
      "outputs": [
        {
          "output_type": "execute_result",
          "data": {
            "text/html": [
              "<div>\n",
              "<style scoped>\n",
              "    .dataframe tbody tr th:only-of-type {\n",
              "        vertical-align: middle;\n",
              "    }\n",
              "\n",
              "    .dataframe tbody tr th {\n",
              "        vertical-align: top;\n",
              "    }\n",
              "\n",
              "    .dataframe thead th {\n",
              "        text-align: right;\n",
              "    }\n",
              "</style>\n",
              "<table border=\"1\" class=\"dataframe\">\n",
              "  <thead>\n",
              "    <tr style=\"text-align: right;\">\n",
              "      <th></th>\n",
              "      <th>Target</th>\n",
              "      <th>Tweet</th>\n",
              "      <th>Stance</th>\n",
              "    </tr>\n",
              "  </thead>\n",
              "  <tbody>\n",
              "    <tr>\n",
              "      <th>1206</th>\n",
              "      <td>The COVID-19 vaccine causes infertility or mis...</td>\n",
              "      <td>@talkRADIO @PatrickChristys URL: \"Information ...</td>\n",
              "      <td>no_stance</td>\n",
              "    </tr>\n",
              "    <tr>\n",
              "      <th>1207</th>\n",
              "      <td>The COVID-19 vaccine causes infertility or mis...</td>\n",
              "      <td>COVID Vaccine Could Make The Virus Far More De...</td>\n",
              "      <td>agree</td>\n",
              "    </tr>\n",
              "    <tr>\n",
              "      <th>1208</th>\n",
              "      <td>The COVID-19 vaccine causes Bell's palsy.</td>\n",
              "      <td>At least four individuals contracted Bell's Pa...</td>\n",
              "      <td>agree</td>\n",
              "    </tr>\n",
              "    <tr>\n",
              "      <th>1209</th>\n",
              "      <td>RNA alters a person's DNA when taking the COVI...</td>\n",
              "      <td>And RNA changes your DNA. Do not take the vacc...</td>\n",
              "      <td>agree</td>\n",
              "    </tr>\n",
              "    <tr>\n",
              "      <th>1210</th>\n",
              "      <td>The COVID-19 vaccine causes infertility or mis...</td>\n",
              "      <td>Covid vaccine is Not safe it changes our genes...</td>\n",
              "      <td>agree</td>\n",
              "    </tr>\n",
              "  </tbody>\n",
              "</table>\n",
              "</div>"
            ],
            "text/plain": [
              "                                                 Target  ...     Stance\n",
              "1206  The COVID-19 vaccine causes infertility or mis...  ...  no_stance\n",
              "1207  The COVID-19 vaccine causes infertility or mis...  ...      agree\n",
              "1208          The COVID-19 vaccine causes Bell's palsy.  ...      agree\n",
              "1209  RNA alters a person's DNA when taking the COVI...  ...      agree\n",
              "1210  The COVID-19 vaccine causes infertility or mis...  ...      agree\n",
              "\n",
              "[5 rows x 3 columns]"
            ]
          },
          "metadata": {
            "tags": []
          },
          "execution_count": 133
        }
      ]
    },
    {
      "cell_type": "markdown",
      "metadata": {
        "id": "zEXyqAyhe2gC"
      },
      "source": [
        "### Output the predicted dataset to a text file for comparison with the gold reference"
      ]
    },
    {
      "cell_type": "code",
      "metadata": {
        "id": "QiLdRBBze2gC"
      },
      "source": [
        "#@title\n",
        "test_pred.to_csv('/content/sample_data/data/predicted.txt', sep='\\t', index=True,\n",
        "                 header=['Target', 'Tweet', 'Stance'], index_label='ID')"
      ],
      "execution_count": null,
      "outputs": []
    }
  ]
}